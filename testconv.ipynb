{
 "cells": [
  {
   "cell_type": "code",
   "execution_count": 1,
   "metadata": {},
   "outputs": [],
   "source": [
    "import numpy as np"
   ]
  },
  {
   "cell_type": "code",
   "execution_count": 3,
   "metadata": {},
   "outputs": [],
   "source": [
    "def smplx2smplh(smplx,frame_num):\n",
    "    smplx_poses = np.array(smplx['poses'])\n",
    "    smplh = {\n",
    "        'trans': np.array(smplx['trans']),\n",
    "        'poses': np.zeros((frame_num, 156)),\n",
    "        'dmpls': np.zeros((frame_num, 8)),\n",
    "        'betas': np.zeros((16)),  # 나의 경우 사용하지 않음\n",
    "        'gender': \"male\",\n",
    "        'mocap_framerate': smplx['mocap_frame_rate']\n",
    "    }\n",
    "    # 変形して利用\n",
    "    smplx_poses = smplx_poses.reshape(frame_num, -1)\n",
    "    smplh['poses'][:, :3] = smplx_poses[:, :3]  # pelvis orientation\n",
    "    smplh['poses'][:, 3:3 + 63] = smplx_poses[:, 3:3 + 63]  # pelvis |2joint orientation\n",
    "    smplh['poses'][:, 66:66 + 90] = smplx_poses[:, 75:75 + 90]\n",
    "\n",
    "    # 保存\n",
    "    np.savez('test/testrotateh.npz', **smplh)  # ディクショナリを展開して保存"
   ]
  },
  {
   "cell_type": "code",
   "execution_count": 4,
   "metadata": {},
   "outputs": [
    {
     "name": "stdout",
     "output_type": "stream",
     "text": [
      "(1046, 165)\n"
     ]
    }
   ],
   "source": [
    "b=np.load(\"test/modified6_JP_06_anger_1_H.npz\")\n",
    "n=b['poses'].shape[0]\n",
    "reshaped_array = b['poses'].reshape(n, -1)\n",
    "print(reshaped_array.shape)\n",
    "smplx2smplh(b,n)"
   ]
  },
  {
   "cell_type": "code",
   "execution_count": 5,
   "metadata": {},
   "outputs": [
    {
     "name": "stdout",
     "output_type": "stream",
     "text": [
      "['trans', 'poses', 'dmpls', 'betas', 'gender', 'mocap_framerate']\n",
      "male\n"
     ]
    }
   ],
   "source": [
    "x = np.load('test/testrotateh.npz')  \n",
    "print(x.files)\n",
    "print(x['gender'])"
   ]
  },
  {
   "cell_type": "code",
   "execution_count": null,
   "metadata": {},
   "outputs": [],
   "source": []
  }
 ],
 "metadata": {
  "kernelspec": {
   "display_name": "torch_render",
   "language": "python",
   "name": "python3"
  },
  "language_info": {
   "codemirror_mode": {
    "name": "ipython",
    "version": 3
   },
   "file_extension": ".py",
   "mimetype": "text/x-python",
   "name": "python",
   "nbconvert_exporter": "python",
   "pygments_lexer": "ipython3",
   "version": "3.7.10"
  }
 },
 "nbformat": 4,
 "nbformat_minor": 2
}
